{
  "nbformat": 4,
  "nbformat_minor": 0,
  "metadata": {
    "colab": {
      "provenance": []
    },
    "kernelspec": {
      "name": "python3",
      "display_name": "Python 3"
    },
    "language_info": {
      "name": "python"
    }
  },
  "cells": [
    {
      "cell_type": "markdown",
      "source": [
        "implementing a binary logistic regression model using TensorFlow for classifying handwritten digits from the MNIST dataset focusing on the digit \"1\" versus others and this model includes multiple hidden layers (ReLU activations) and uses the Adam optimizer for updating weights during training and evaluating the model's accuracy after each epoch and on the test set."
      ],
      "metadata": {
        "id": "hgLFJvq2YZJR"
      }
    },
    {
      "cell_type": "markdown",
      "source": [
        "CUSTOM ANN CODE ON MNIST DATASET"
      ],
      "metadata": {
        "id": "h7ayoHwJY-P6"
      }
    },
    {
      "cell_type": "code",
      "execution_count": 1,
      "metadata": {
        "colab": {
          "base_uri": "https://localhost:8080/"
        },
        "id": "DFqZZoCfYDJr",
        "outputId": "90894bbe-d74a-4ebb-9d74-e82887badd00"
      },
      "outputs": [
        {
          "output_type": "stream",
          "name": "stdout",
          "text": [
            "Downloading data from https://storage.googleapis.com/tensorflow/tf-keras-datasets/mnist.npz\n",
            "\u001b[1m11490434/11490434\u001b[0m \u001b[32m━━━━━━━━━━━━━━━━━━━━\u001b[0m\u001b[37m\u001b[0m \u001b[1m0s\u001b[0m 0us/step\n",
            "Epoch 1, Training Accuracy: 0.8876\n",
            "Epoch 2, Training Accuracy: 0.8876\n",
            "Epoch 3, Training Accuracy: 0.8876\n",
            "Epoch 4, Training Accuracy: 0.8876\n",
            "Epoch 5, Training Accuracy: 0.8876\n",
            "Test Accuracy: 0.8865\n"
          ]
        }
      ],
      "source": [
        "import tensorflow as tf\n",
        "mnist = tf.keras.datasets.mnist\n",
        "\n",
        "(x_train, y_train),(x_test, y_test) = mnist.load_data()\n",
        "x_train, x_test = x_train / 255.0, x_test / 255.0\n",
        "\n",
        "import numpy as np\n",
        "class LogisticRegression:\n",
        "    def __init__(self, input_dim, h1, h2, h3, learning_rate=0.01):\n",
        "        self.w1 = tf.Variable(tf.random.normal([input_dim, h1], stddev=0.1, dtype=tf.float32))\n",
        "        self.w2 = tf.Variable(tf.random.normal([h1, h2], stddev=0.1, dtype=tf.float32))\n",
        "        self.w3 = tf.Variable(tf.random.normal([h2, h3], stddev=0.1, dtype=tf.float32))\n",
        "        self.w4 = tf.Variable(tf.random.normal([h3, 1], stddev=0.1, dtype=tf.float32))\n",
        "\n",
        "        self.b1 = tf.Variable(tf.zeros([h1]))\n",
        "        self.b2 = tf.Variable(tf.zeros([h2]))\n",
        "        self.b3 = tf.Variable(tf.zeros([h3]))\n",
        "        self.b4 = tf.Variable(tf.zeros([1]))\n",
        "\n",
        "        self.learning_rate = learning_rate\n",
        "        self.optimizer = tf.optimizers.Adam(learning_rate)\n",
        "\n",
        "    def predict(self, x):\n",
        "        hidden_output = tf.nn.relu(tf.matmul(x, self.w1) + self.b1)\n",
        "        hidden_output2 = tf.nn.relu(tf.matmul(hidden_output, self.w2) + self.b2)\n",
        "        hidden_output3 = tf.nn.relu(tf.matmul(hidden_output2, self.w3) + self.b3)\n",
        "        logits = tf.matmul(hidden_output3, self.w4) + self.b4\n",
        "        return tf.nn.sigmoid(logits)\n",
        "\n",
        "    def loss(self, x, y):\n",
        "        y_pred = self.predict(x)\n",
        "        return tf.reduce_mean(tf.nn.sigmoid_cross_entropy_with_logits(logits=y_pred, labels=y))\n",
        "\n",
        "    def train(self, x, y):\n",
        "        with tf.GradientTape() as tape:\n",
        "            loss_value = self.loss(x, y)\n",
        "\n",
        "        grads = tape.gradient(loss_value, [self.w1, self.w2, self.w3, self.w4, self.b1, self.b2, self.b3, self.b4])\n",
        "        self.optimizer.apply_gradients(zip(grads, [self.w1, self.w2, self.w3, self.w4, self.b1, self.b2, self.b3, self.b4]))\n",
        "\n",
        "    def evaluate(self, x, y):\n",
        "        y_pred = self.predict(x)\n",
        "        y_pred_class = tf.round(y_pred)\n",
        "        accuracy = tf.reduce_mean(tf.cast(tf.equal(y_pred_class, y), tf.float32))\n",
        "        return accuracy.numpy()\n",
        "\n",
        "x_train_flat = x_train.reshape(-1, 28 * 28).astype(np.float32)\n",
        "x_test_flat = x_test.reshape(-1, 28 * 28).astype(np.float32)\n",
        "\n",
        "y_train_binary = (y_train == 1).astype(np.float32)\n",
        "y_test_binary = (y_test == 1).astype(np.float32)\n",
        "\n",
        "input_dim = 28 * 28\n",
        "h1, h2, h3 = 128, 64, 32\n",
        "model = LogisticRegression(input_dim, h1, h2, h3)\n",
        "\n",
        "epochs = 5\n",
        "for epoch in range(epochs):\n",
        "    for i in range(0, len(x_train_flat), 32):\n",
        "        x_batch = x_train_flat[i:i + 32]\n",
        "        y_batch = y_train_binary[i:i + 32].reshape(-1, 1)\n",
        "        model.train(x_batch, y_batch)\n",
        "    train_accuracy = model.evaluate(x_train_flat, y_train_binary.reshape(-1, 1))\n",
        "    print(f'Epoch {epoch + 1}, Training Accuracy: {train_accuracy:.4f}')\n",
        "\n",
        "test_accuracy = model.evaluate(x_test_flat, y_test_binary.reshape(-1, 1))\n",
        "print(f'Test Accuracy: {test_accuracy:.4f}')\n"
      ]
    },
    {
      "cell_type": "markdown",
      "source": [
        "USING KERAS"
      ],
      "metadata": {
        "id": "aEwIbR2MZDQL"
      }
    },
    {
      "cell_type": "code",
      "source": [
        "import tensorflow as tf\n",
        "import numpy as np\n",
        "\n",
        "mnist = tf.keras.datasets.mnist\n",
        "(x_train, y_train), (x_test, y_test) = mnist.load_data()\n",
        "x_train, x_test = x_train / 255.0, x_test / 255.0\n",
        "\n",
        "x_train_flat = x_train.reshape(-1, 28 * 28).astype(np.float32)\n",
        "x_test_flat = x_test.reshape(-1, 28 * 28).astype(np.float32)\n",
        "y_train_binary = (y_train == 1).astype(np.float32)\n",
        "y_test_binary = (y_test == 1).astype(np.float32)\n",
        "\n",
        "model = tf.keras.Sequential([\n",
        "    tf.keras.layers.Dense(128, activation='relu', input_shape=(28 * 28,)),\n",
        "    tf.keras.layers.Dense(64, activation='relu'),\n",
        "    tf.keras.layers.Dense(32, activation='relu'),\n",
        "    tf.keras.layers.Dense(1, activation='sigmoid')\n",
        "])\n",
        "\n",
        "model.compile(optimizer='adam',loss='binary_crossentropy',metrics=['accuracy'])\n",
        "\n",
        "epochs = 10\n",
        "model.fit(x_train_flat, y_train_binary, epochs=epochs, batch_size=32)\n",
        "\n",
        "test_loss, test_accuracy = model.evaluate(x_test_flat, y_test_binary)\n",
        "print(f'Test Accuracy: {test_accuracy:.4f}')"
      ],
      "metadata": {
        "colab": {
          "base_uri": "https://localhost:8080/"
        },
        "id": "Q64cHTxEZE-V",
        "outputId": "fa5a9d5a-a599-47de-eed0-160011cf13d0"
      },
      "execution_count": 2,
      "outputs": [
        {
          "output_type": "stream",
          "name": "stderr",
          "text": [
            "/usr/local/lib/python3.10/dist-packages/keras/src/layers/core/dense.py:87: UserWarning: Do not pass an `input_shape`/`input_dim` argument to a layer. When using Sequential models, prefer using an `Input(shape)` object as the first layer in the model instead.\n",
            "  super().__init__(activity_regularizer=activity_regularizer, **kwargs)\n"
          ]
        },
        {
          "output_type": "stream",
          "name": "stdout",
          "text": [
            "Epoch 1/10\n",
            "\u001b[1m1875/1875\u001b[0m \u001b[32m━━━━━━━━━━━━━━━━━━━━\u001b[0m\u001b[37m\u001b[0m \u001b[1m7s\u001b[0m 3ms/step - accuracy: 0.9823 - loss: 0.0478\n",
            "Epoch 2/10\n",
            "\u001b[1m1875/1875\u001b[0m \u001b[32m━━━━━━━━━━━━━━━━━━━━\u001b[0m\u001b[37m\u001b[0m \u001b[1m10s\u001b[0m 3ms/step - accuracy: 0.9960 - loss: 0.0115\n",
            "Epoch 3/10\n",
            "\u001b[1m1875/1875\u001b[0m \u001b[32m━━━━━━━━━━━━━━━━━━━━\u001b[0m\u001b[37m\u001b[0m \u001b[1m8s\u001b[0m 4ms/step - accuracy: 0.9978 - loss: 0.0075\n",
            "Epoch 4/10\n",
            "\u001b[1m1875/1875\u001b[0m \u001b[32m━━━━━━━━━━━━━━━━━━━━\u001b[0m\u001b[37m\u001b[0m \u001b[1m6s\u001b[0m 3ms/step - accuracy: 0.9983 - loss: 0.0051\n",
            "Epoch 5/10\n",
            "\u001b[1m1875/1875\u001b[0m \u001b[32m━━━━━━━━━━━━━━━━━━━━\u001b[0m\u001b[37m\u001b[0m \u001b[1m8s\u001b[0m 4ms/step - accuracy: 0.9987 - loss: 0.0040\n",
            "Epoch 6/10\n",
            "\u001b[1m1875/1875\u001b[0m \u001b[32m━━━━━━━━━━━━━━━━━━━━\u001b[0m\u001b[37m\u001b[0m \u001b[1m10s\u001b[0m 4ms/step - accuracy: 0.9986 - loss: 0.0035\n",
            "Epoch 7/10\n",
            "\u001b[1m1875/1875\u001b[0m \u001b[32m━━━━━━━━━━━━━━━━━━━━\u001b[0m\u001b[37m\u001b[0m \u001b[1m7s\u001b[0m 4ms/step - accuracy: 0.9985 - loss: 0.0037\n",
            "Epoch 8/10\n",
            "\u001b[1m1875/1875\u001b[0m \u001b[32m━━━━━━━━━━━━━━━━━━━━\u001b[0m\u001b[37m\u001b[0m \u001b[1m11s\u001b[0m 4ms/step - accuracy: 0.9993 - loss: 0.0018\n",
            "Epoch 9/10\n",
            "\u001b[1m1875/1875\u001b[0m \u001b[32m━━━━━━━━━━━━━━━━━━━━\u001b[0m\u001b[37m\u001b[0m \u001b[1m7s\u001b[0m 4ms/step - accuracy: 0.9991 - loss: 0.0028\n",
            "Epoch 10/10\n",
            "\u001b[1m1875/1875\u001b[0m \u001b[32m━━━━━━━━━━━━━━━━━━━━\u001b[0m\u001b[37m\u001b[0m \u001b[1m10s\u001b[0m 5ms/step - accuracy: 0.9994 - loss: 0.0016\n",
            "\u001b[1m313/313\u001b[0m \u001b[32m━━━━━━━━━━━━━━━━━━━━\u001b[0m\u001b[37m\u001b[0m \u001b[1m1s\u001b[0m 2ms/step - accuracy: 0.9975 - loss: 0.0164\n",
            "Test Accuracy: 0.9977\n"
          ]
        }
      ]
    }
  ]
}